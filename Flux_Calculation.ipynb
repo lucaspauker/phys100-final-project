{
 "cells": [
  {
   "cell_type": "code",
   "execution_count": 1,
   "metadata": {},
   "outputs": [],
   "source": [
    "# General (scientific) computing\n",
    "import os\n",
    "import time\n",
    "import glob\n",
    "import numpy as np\n",
    "import matplotlib.pylab as plt\n",
    "%matplotlib inline\n",
    "import matplotlib as mpl\n",
    "from matplotlib.patches import Ellipse\n",
    "mpl.rcParams['image.origin'] = 'lower'\n",
    "mpl.rcParams['image.interpolation'] = 'nearest'\n",
    "mpl.rcParams['image.cmap'] = 'Greys_r'\n",
    "\n",
    "# Astronomical computing\n",
    "import fitsio\n",
    "from astropy.visualization import simple_norm, AsinhStretch\n",
    "#import astroalign as aa\n",
    "import sep\n",
    "import scipy\n",
    "import astropy.io.fits as fits\n",
    "from astropy.wcs import WCS\n",
    "from astropy.io import ascii\n",
    "from astropy.coordinates import SkyCoord\n",
    "from astropy import units as u\n",
    "\n",
    "# Your Image Calibration and Photometry Code\n",
    "from complete_process import average_bias, average_dark, average_flat, science_exposure\n",
    "# Note that you do not need to have magnitude errors implemented. That is for lab 1.5! Returning 0 for all\n",
    "# magnitude errors is fine for now.\n",
    "from photometry import create_phot_cat, aper_flux, multi_ellipse_aper_flux, aper_mag"
   ]
  },
  {
   "cell_type": "markdown",
   "metadata": {},
   "source": [
    "## Fluxes"
   ]
  },
  {
   "cell_type": "code",
   "execution_count": 2,
   "metadata": {},
   "outputs": [
    {
     "name": "stdout",
     "output_type": "stream",
     "text": [
      "2710.3935356140137\n",
      "Flux: 287402.2673527743\n",
      "Flux err: 74.89633692822656\n"
     ]
    },
    {
     "data": {
      "image/png": "[encoded data removed]",
      "text/plain": [
       "<Figure size 432x288 with 1 Axes>"
      ]
     },
     "metadata": {
      "needs_background": "light"
     },
     "output_type": "display_data"
    }
   ],
   "source": [
    "# M94 R Flux\n",
    "im, header = fitsio.read('./data/Coadded_Data/coadded_R.fit', header=True)\n",
    "print(np.median(im))\n",
    "#print(3*60 + 6 * 15)# + 4 * 15)\n",
    "\n",
    "rfl1, rerrl1, risl1, rib1 = multi_ellipse_aper_flux(im, n_ellipses=1, a_list=[40], b_list=[40], \n",
    "                                        h_list=[1055], k_list=[460],\n",
    "                                        bgx=1055, bgy=460, background_width=400, angles=[0], gain=1.2706268068331685,\n",
    "                                        nimages1=9, nimages2=4, errFlag=True, \n",
    "                                        read_noise1=3.4934947763773803, read_noise2=3.1409296805752427, \n",
    "                                        avg_dark_current1=0.07143249638710437, \n",
    "                                        avg_dark_current2=0.07738150368580866,exptime1=270, exptime2=60)\n",
    "rfl, rerrl, risl, rib = multi_ellipse_aper_flux(im, n_ellipses=1, a_list=[150], b_list=[150], \n",
    "                                        h_list=[1055], k_list=[460],\n",
    "                                        bgx=1055, bgy=460, background_width=400, angles=[0], gain=1.2706268068331685,\n",
    "                                        nimages1=9, nimages2=4, errFlag=True, \n",
    "                                        read_noise1=3.4934947763773803, read_noise2=3.1409296805752427, \n",
    "                                        avg_dark_current1=0.07143249638710437, \n",
    "                                        avg_dark_current2=0.07738150368580866,exptime1=270, exptime2=60)\n",
    "#rfl, rerrl, risl, rib = aper_flux(im, 1055, 460, source_radius=(150), background_width=(400), exptime=330)\n",
    "\n",
    "r_mag, r_magerr = aper_mag(rfl[0], rerrl[0])\n",
    "R_inst_flux = rfl[0]\n",
    "R_inst_flux_err = rerrl[0]\n",
    "plt.imshow(im * risl[0])\n",
    "print(\"Flux:\", rfl[0])\n",
    "print(\"Flux err:\", rerrl[0])"
   ]
  },
  {
   "cell_type": "code",
   "execution_count": 3,
   "metadata": {},
   "outputs": [
    {
     "name": "stdout",
     "output_type": "stream",
     "text": [
      "330.0\n",
      "Flux: 4432.662654474697\n",
      "Flux err: 9.69137973691987\n"
     ]
    },
    {
     "data": {
      "image/png": "[encoded data removed]",
      "text/plain": [
       "<Figure size 432x288 with 1 Axes>"
      ]
     },
     "metadata": {
      "needs_background": "light"
     },
     "output_type": "display_data"
    }
   ],
   "source": [
    "# BD+42 R Flux\n",
    "im, header = fitsio.read('./data/Coadded_Data/coadded_R.fit', header=True)\n",
    "print(header['EXPTIME'])\n",
    "#print(3*60 + 6 * 15)# + 4 * 15)\n",
    "\n",
    "rfl, rerrl, risl, rib = multi_ellipse_aper_flux(im, n_ellipses=1, a_list=[20], b_list=[20], \n",
    "                                        h_list=[1021], k_list=[877],\n",
    "                                        bgx=1021, bgy=877, background_width=90, angles=[0], gain=1.2706268068331685,\n",
    "                                        nimages1=9, nimages2=4, errFlag=True, \n",
    "                                        read_noise1=3.4934947763773803, read_noise2=3.1409296805752427, \n",
    "                                        avg_dark_current1=0.07143249638710437, \n",
    "                                        avg_dark_current2=0.07738150368580866,exptime1=270, exptime2=60)\n",
    "\n",
    "#rfl, rerrl, risl, rib = aper_flux(im, 1021, 877, source_radius=(20), background_width=(90), exptime=330)\n",
    "#rfl[0] /= 100000\n",
    "ref_r_mag, ref_r_magerr = aper_mag(rfl[0], rerrl[0])\n",
    "plt.imshow(im * (risl[0]))\n",
    "print(\"Flux:\", rfl[0])\n",
    "print(\"Flux err:\", rerrl[0])"
   ]
  },
  {
   "cell_type": "code",
   "execution_count": 4,
   "metadata": {},
   "outputs": [
    {
     "name": "stdout",
     "output_type": "stream",
     "text": [
      "7500.0\n",
      "Flux: 8334.670438430267\n",
      "Flux err: 2.6124416535255532\n"
     ]
    },
    {
     "data": {
      "image/png": "[encoded data removed]",
      "text/plain": [
       "<Figure size 432x288 with 1 Axes>"
      ]
     },
     "metadata": {
      "needs_background": "light"
     },
     "output_type": "display_data"
    }
   ],
   "source": [
    "# M94 Ha Flux\n",
    "im, header = fitsio.read('./data/Coadded_Data/coadded_Ha.fit', header=True)\n",
    "print(header['EXPTIME'])\n",
    "\n",
    "hafl1, haerrl1, haisl1, haib1 = multi_ellipse_aper_flux(im, n_ellipses=1, a_list=[40], b_list=[40],\n",
    "                                        h_list=[740], k_list=[561],\n",
    "                                        bgx=740, bgy=561, background_width=400, angles=[0], gain=1.2706268068331685,\n",
    "                                        nimages1=85, nimages2=35, errFlag=True, \n",
    "                                        read_noise1=3.4934947763773803, read_noise2=3.1409296805752427, \n",
    "                                        avg_dark_current1=0.07143249638710437, \n",
    "                                        avg_dark_current2=0.07738150368580866,exptime1=85*60, exptime2=35*60)\n",
    "hafl, haerrl, haisl, haib = multi_ellipse_aper_flux(im, n_ellipses=1, a_list=[150], b_list=[150],\n",
    "                                        h_list=[740], k_list=[561],\n",
    "                                        bgx=740, bgy=561, background_width=400, angles=[0], gain=1.2706268068331685,\n",
    "                                        nimages1=85, nimages2=35, errFlag=True, \n",
    "                                        read_noise1=3.4934947763773803, read_noise2=3.1409296805752427, \n",
    "                                        avg_dark_current1=0.07143249638710437, \n",
    "                                        avg_dark_current2=0.07738150368580866,exptime1=85*60, exptime2=35*60)\n",
    "#hafl, haerrl, haisl, haib = aper_flux(im, 740, 561, source_radius=(150), background_width=(400), exptime=7500)\n",
    "\n",
    "ha_mag, ha_magerr = aper_mag(hafl[0], haerrl[0])\n",
    "Ha_inst_flux = hafl[0]\n",
    "Ha_inst_flux_err = haerrl[0]\n",
    "plt.imshow(im * (haisl[0]))\n",
    "print(\"Flux:\", hafl[0])\n",
    "print(\"Flux err:\", haerrl[0])"
   ]
  },
  {
   "cell_type": "code",
   "execution_count": 5,
   "metadata": {},
   "outputs": [
    {
     "name": "stdout",
     "output_type": "stream",
     "text": [
      "7500.0\n",
      "Flux: 77.66101620286551\n",
      "Flux err: 0.33584905836061213\n"
     ]
    },
    {
     "data": {
      "image/png": "[encoded data removed]",
      "text/plain": [
       "<Figure size 432x288 with 1 Axes>"
      ]
     },
     "metadata": {
      "needs_background": "light"
     },
     "output_type": "display_data"
    }
   ],
   "source": [
    "# BD+42 Ha Flux\n",
    "im, header = fitsio.read('./data/Coadded_Data/coadded_Ha.fit', header=True)\n",
    "print(header['EXPTIME'])\n",
    "\n",
    "hafl, haerrl, haisl, haib = multi_ellipse_aper_flux(im, n_ellipses=1, a_list=[20], b_list=[20], \n",
    "                                        h_list=[706], k_list=[973],\n",
    "                                        bgx=706, bgy=973, background_width=90, angles=[0], gain=1.2706268068331685,\n",
    "                                        nimages1=85, nimages2=35, errFlag=True, \n",
    "                                        read_noise1=3.4934947763773803, read_noise2=3.1409296805752427, \n",
    "                                        avg_dark_current1=0.07143249638710437, \n",
    "                                        avg_dark_current2=0.07738150368580866,exptime1=85*60, exptime2=35*60)\n",
    "#hafl, haerrl, haisl, haib = aper_flux(im, 706, 973, source_radius=(20), background_width=(90), exptime=7500)\n",
    "\n",
    "ref_ha_mag, ref_ha_magerr = aper_mag(hafl[0], haerrl[0])\n",
    "plt.imshow(im * (haisl[0]))\n",
    "print(\"Flux:\", hafl[0])\n",
    "print(\"Flux err:\", haerrl[0])"
   ]
  },
  {
   "cell_type": "markdown",
   "metadata": {},
   "source": [
    "## Differential Photometry"
   ]
  },
  {
   "cell_type": "code",
   "execution_count": 6,
   "metadata": {},
   "outputs": [],
   "source": [
    "ref_true_mag = 13.10"
   ]
  },
  {
   "cell_type": "code",
   "execution_count": 7,
   "metadata": {
    "scrolled": false
   },
   "outputs": [
    {
     "data": {
      "text/plain": [
       "(0.00037310022351709087,\n",
       " 0.002196989324245229,\n",
       " 8.570436226954278,\n",
       " 0.0023906088757288868)"
      ]
     },
     "execution_count": 7,
     "metadata": {},
     "output_type": "execute_result"
    }
   ],
   "source": [
    "# We have to do error propogation here\n",
    "corrected_mag_R = ref_true_mag - ref_r_mag + r_mag\n",
    "corrected_mag_Rerr = np.sqrt(ref_r_magerr ** 2 + r_magerr ** 2)\n",
    "fluxR = 10 ** (-corrected_mag_R/2.5)\n",
    "fluxR_err = np.sqrt(corrected_mag_Rerr ** 2 * (-0.921034*np.exp(-0.921034 * corrected_mag_Rerr)) ** 2)\n",
    "fluxR, fluxR_err, corrected_mag_R, corrected_mag_Rerr"
   ]
  },
  {
   "cell_type": "code",
   "execution_count": 8,
   "metadata": {},
   "outputs": [
    {
     "data": {
      "text/plain": [
       "(1.0819912564234004e-05,\n",
       " 0.002196989324245229,\n",
       " 12.414440621877718,\n",
       " 0.0023906088757288868)"
      ]
     },
     "execution_count": 8,
     "metadata": {},
     "output_type": "execute_result"
    }
   ],
   "source": [
    "# We have to do error propogation here\n",
    "corrected_mag_Ha = ref_true_mag - ref_r_mag + ha_mag\n",
    "corrected_mag_Haerr = corrected_mag_Rerr#np.sqrt(ref_ha_magerr ** 2) #+ ha_magerr ** 2\n",
    "fluxHa = 10 ** (-corrected_mag_Ha/2.5)\n",
    "fluxHa_err = np.sqrt(corrected_mag_Haerr ** 2 * (-0.921034*np.exp(-0.921034 * corrected_mag_Haerr)) ** 2)\n",
    "fluxHa, fluxHa_err, corrected_mag_Ha, corrected_mag_Haerr"
   ]
  },
  {
   "cell_type": "code",
   "execution_count": 9,
   "metadata": {},
   "outputs": [
    {
     "data": {
      "text/plain": [
       "(8.570436226954278, 12.414440621877718)"
      ]
     },
     "execution_count": 9,
     "metadata": {},
     "output_type": "execute_result"
    }
   ],
   "source": [
    "corrected_mag_R, corrected_mag_Ha"
   ]
  },
  {
   "cell_type": "markdown",
   "metadata": {},
   "source": [
    "## Flux Subtraction"
   ]
  },
  {
   "cell_type": "code",
   "execution_count": 10,
   "metadata": {},
   "outputs": [
    {
     "data": {
      "text/plain": [
       "43.88622656886716"
      ]
     },
     "execution_count": 10,
     "metadata": {},
     "output_type": "execute_result"
    }
   ],
   "source": [
    "DW = 13462.1 / 306.75\n",
    "DW"
   ]
  },
  {
   "cell_type": "code",
   "execution_count": 11,
   "metadata": {},
   "outputs": [
    {
     "name": "stdout",
     "output_type": "stream",
     "text": [
      "Flux difference is 1.0866797012646637e+31\n",
      "Flux difference error is 0.019729694131656112\n"
     ]
    }
   ],
   "source": [
    "# Now we will calculate the difference in Flux\n",
    "# We have to do error propogation here\n",
    "dF = 10 ** (2.5 * corrected_mag_Ha) - (10 ** (2.5 * corrected_mag_R) / DW)\n",
    "dFerr = np.sqrt((corrected_mag_Haerr ** 2) * (5.756 * np.exp(5.756 * corrected_mag_Haerr)) ** 2 + (corrected_mag_Rerr ** 2) * (5.756 * np.exp(5.756 * corrected_mag_Rerr)) ** 2)\n",
    "print(\"Flux difference is\", dF)\n",
    "print(\"Flux difference error is\", dFerr)  # This might be fixed if the error in the photometry aper_flux\n",
    "                                          # is fixed"
   ]
  },
  {
   "cell_type": "markdown",
   "metadata": {},
   "source": [
    "## Luminosity"
   ]
  },
  {
   "cell_type": "code",
   "execution_count": 12,
   "metadata": {},
   "outputs": [],
   "source": [
    "h = scipy.constants.h\n",
    "c = scipy.constants.c"
   ]
  },
  {
   "cell_type": "code",
   "execution_count": 13,
   "metadata": {},
   "outputs": [
    {
     "data": {
      "text/plain": [
       "(299792458.0, 6.62607015e-34)"
      ]
     },
     "execution_count": 13,
     "metadata": {},
     "output_type": "execute_result"
    }
   ],
   "source": [
    "c,h"
   ]
  },
  {
   "cell_type": "code",
   "execution_count": 14,
   "metadata": {},
   "outputs": [
    {
     "name": "stdout",
     "output_type": "stream",
     "text": [
      "3.0189146765181287e-19 3.0267345073120964e-19 0.9974164133738601\n"
     ]
    }
   ],
   "source": [
    "# Don't worry about this error propagation\n",
    "R_avg_lambda = 658\n",
    "R_photon_energy = h * c * 10**9 / R_avg_lambda\n",
    "Ha_avg_lambda = 656.3\n",
    "Ha_photon_energy = h * c * 10**9 / Ha_avg_lambda\n",
    "print(R_photon_energy, Ha_photon_energy, R_photon_energy / Ha_photon_energy)"
   ]
  },
  {
   "cell_type": "code",
   "execution_count": 15,
   "metadata": {},
   "outputs": [
    {
     "name": "stdout",
     "output_type": "stream",
     "text": [
      "0.37161215999999997 m mirror\n",
      "100 photons per second are detected by CCD\n",
      "658 nm avg wavelength of light let in by filter\n",
      "(8.123831783432838e-17, 8.123831783432837e-18) W/m^2\n"
     ]
    }
   ],
   "source": [
    "h = scipy.constants.h\n",
    "c = scipy.constants.c\n",
    "def turn_into_wattsm2(rate, rate_err, area, lam):\n",
    "    \"\"\"Turn\n",
    "        - rate, which is in photons / second,\n",
    "        - area, which is area of the primary mirror in m^2,\n",
    "        - lam, which is in nm\n",
    "    into Watts / m^2\n",
    "    \"\"\"\n",
    "    energy = h * c * 10**9 / lam\n",
    "    return energy * rate / area, rate_err * energy / area\n",
    "    \n",
    "# These lines are a test\n",
    "rate = 100\n",
    "rate_err = 10\n",
    "r = 24 * 2.54 # cm\n",
    "area = (r ** 2) / 10000  # m^2\n",
    "lam = 658\n",
    "print(area, \"m mirror\")\n",
    "print(rate, \"photons per second are detected by CCD\")\n",
    "print(lam, \"nm avg wavelength of light let in by filter\")\n",
    "print(turn_into_wattsm2(rate, rate_err, area, lam), \"W/m^2\")"
   ]
  },
  {
   "cell_type": "code",
   "execution_count": 16,
   "metadata": {},
   "outputs": [
    {
     "name": "stdout",
     "output_type": "stream",
     "text": [
      "3.8591934581341877e-22 2.2724743361965457e-21\n",
      "1.122065685880032e-23 2.2783606783747175e-21\n",
      "2.4270244145110795e-24\n",
      "2.2789490245705326e-21\n"
     ]
    }
   ],
   "source": [
    "r = 12 * 2.54 * 0.01 # m  TODO: subtract inner hole radius\n",
    "area = np.pi * (r ** 2) # m^2\n",
    "wattsR, wattsR_err = turn_into_wattsm2(fluxR, fluxR_err, area, R_avg_lambda)\n",
    "print(wattsR, wattsR_err)\n",
    "wattsHa, wattsHa_err = turn_into_wattsm2(fluxHa, fluxHa_err, area, Ha_avg_lambda)\n",
    "print(wattsHa, wattsHa_err)\n",
    "difference = wattsHa - wattsR / DW\n",
    "cov = 0\n",
    "dif_err = np.sqrt((wattsHa_err ** 2) + ((wattsR_err ** 2) / (DW ** 2)) - (2 * cov / DW))\n",
    "print(difference)\n",
    "print(dif_err)"
   ]
  },
  {
   "cell_type": "code",
   "execution_count": 17,
   "metadata": {},
   "outputs": [
    {
     "data": {
      "text/plain": [
       "1.3550619101600003e-11"
      ]
     },
     "execution_count": 17,
     "metadata": {},
     "output_type": "execute_result"
    }
   ],
   "source": [
    "dv = (c * (10 ** 9)/300) - (c * (10 ** 9)/500)\n",
    "dv * 3.39 * (10**-26)"
   ]
  },
  {
   "cell_type": "code",
   "execution_count": 18,
   "metadata": {},
   "outputs": [
    {
     "name": "stdout",
     "output_type": "stream",
     "text": [
      "1.122065685880032e-23 3.8591934581341877e-22\n"
     ]
    }
   ],
   "source": [
    "print(wattsHa, wattsR)  # This seems wrong"
   ]
  },
  {
   "cell_type": "code",
   "execution_count": 19,
   "metadata": {},
   "outputs": [
    {
     "name": "stdout",
     "output_type": "stream",
     "text": [
      "Luminosity is 6.973776306161644e+23 watts.\n",
      "Luminosity is 6.973776306161644e+30 ergs.\n",
      "SFR = 5.509283281867699e-10 solar masses a year\n",
      "5.173156016072239e-07\n"
     ]
    }
   ],
   "source": [
    "d = 4.9 * 3.086e22  # m, error is +- 0.4 \n",
    "derr = 0.4 * 3.086e22\n",
    "L = 4 * np.pi * (d ** 2) * difference\n",
    "Lerr = np.sqrt((((4 * np.pi * d ** 2) ** 2) * (dif_err ** 2)) + ((8 * np.pi * d * difference) ** 2 * (derr ** 2)))\n",
    "print(\"Luminosity is\", L, \"watts.\")\n",
    "Lergs = L * 10000000  # ergs/s\n",
    "Lergs_err = Lerr * 10000000\n",
    "print(\"Luminosity is\", Lergs, \"ergs.\")\n",
    "SFR = Lergs * 7.9 * 10e-42\n",
    "SFR_err = Lergs_err * 7.9 * 10e-42\n",
    "print(\"SFR =\", SFR, \"solar masses a year\")\n",
    "print(SFR_err)"
   ]
  },
  {
   "cell_type": "code",
   "execution_count": 20,
   "metadata": {},
   "outputs": [
    {
     "data": {
      "text/plain": [
       "(1.1088949801377186e+33, 3.2241270616651474e+31)"
      ]
     },
     "execution_count": 20,
     "metadata": {},
     "output_type": "execute_result"
    }
   ],
   "source": [
    "LR1 = 4 * np.pi * (d ** 2) * wattsR * 10000000\n",
    "LHa1 = 4 * np.pi * (d ** 2) * wattsHa * 10000000\n",
    "LR1, LHa1"
   ]
  },
  {
   "cell_type": "code",
   "execution_count": 21,
   "metadata": {
    "scrolled": true
   },
   "outputs": [
    {
     "data": {
      "text/plain": [
       "0.9998699241139201"
      ]
     },
     "execution_count": 21,
     "metadata": {},
     "output_type": "execute_result"
    }
   ],
   "source": [
    "SFR / 5.51e-10"
   ]
  },
  {
   "cell_type": "markdown",
   "metadata": {},
   "source": [
    "## Calculating luminosity another way"
   ]
  },
  {
   "cell_type": "markdown",
   "metadata": {},
   "source": [
    "Good source: http://csep10.phys.utk.edu/OJTA2dev/ojta/c2c/ordinary_stars/magnitudes/absolute_tl.html"
   ]
  },
  {
   "cell_type": "code",
   "execution_count": 22,
   "metadata": {},
   "outputs": [
    {
     "data": {
      "text/plain": [
       "(12.414440621877718, 8.570436226954278)"
      ]
     },
     "execution_count": 22,
     "metadata": {},
     "output_type": "execute_result"
    }
   ],
   "source": [
    "d = 4.9 * 10**6 # pc, error is +- 0.4 \n",
    "corrected_mag_Ha, corrected_mag_R"
   ]
  },
  {
   "cell_type": "code",
   "execution_count": 23,
   "metadata": {},
   "outputs": [
    {
     "data": {
      "text/plain": [
       "(-16.036539778264853, -19.88054417318829)"
      ]
     },
     "execution_count": 23,
     "metadata": {},
     "output_type": "execute_result"
    }
   ],
   "source": [
    "abs_mag_Ha = corrected_mag_Ha - 5 * np.log10(d) + 5\n",
    "abs_mag_R = corrected_mag_R - 5 * np.log10(d) + 5\n",
    "abs_mag_Ha, abs_mag_R"
   ]
  },
  {
   "cell_type": "code",
   "execution_count": 24,
   "metadata": {},
   "outputs": [],
   "source": [
    "abs_mag_sun = 4.83\n",
    "luminosity_sun = 3.846*10**33  # ergs/second"
   ]
  },
  {
   "cell_type": "code",
   "execution_count": 25,
   "metadata": {},
   "outputs": [
    {
     "data": {
      "text/plain": [
       "(8.543290837415249e+41, 2.9459607017044283e+43)"
      ]
     },
     "execution_count": 25,
     "metadata": {},
     "output_type": "execute_result"
    }
   ],
   "source": [
    "LHa = luminosity_sun * 10 ** (0.4 * (abs_mag_sun - abs_mag_Ha))  # ergs/s\n",
    "LR = luminosity_sun * 10 ** (0.4 * (abs_mag_sun - abs_mag_R))  # ergs/s\n",
    "LHa, LR"
   ]
  },
  {
   "cell_type": "code",
   "execution_count": 26,
   "metadata": {},
   "outputs": [
    {
     "data": {
      "text/plain": [
       "(34.482739236766065, 34.39365009284137)"
      ]
     },
     "execution_count": 26,
     "metadata": {},
     "output_type": "execute_result"
    }
   ],
   "source": [
    "LR / LHa, LR1 / LHa1"
   ]
  },
  {
   "cell_type": "code",
   "execution_count": 27,
   "metadata": {},
   "outputs": [
    {
     "data": {
      "text/plain": [
       "1.830568117721937e+41"
      ]
     },
     "execution_count": 27,
     "metadata": {},
     "output_type": "execute_result"
    }
   ],
   "source": [
    "Ldiff = LHa - LR / DW\n",
    "Ldiff"
   ]
  },
  {
   "cell_type": "code",
   "execution_count": 28,
   "metadata": {},
   "outputs": [
    {
     "name": "stdout",
     "output_type": "stream",
     "text": [
      "SFR = 8.42061334152091 solar masses a year\n"
     ]
    }
   ],
   "source": [
    "SFR = Ldiff * 4.6 * 10e-42\n",
    "print(\"SFR =\", SFR, \"solar masses a year\")"
   ]
  },
  {
   "cell_type": "markdown",
   "metadata": {},
   "source": [
    "## Compare to literature"
   ]
  },
  {
   "cell_type": "markdown",
   "metadata": {},
   "source": [
    "https://www.cosmotography.com/images/m94_0907.4884v1.pdf\n",
    "\n",
    "From this paper, \"We find that the total SFR for M94 is 1.04 M⊙yr−1\"\n",
    "\n",
    "It is distributed as follows:\n",
    "- Bulge (0.75 M⊙yr−1)\n",
    "- Inner disk (0.14 M⊙yr−1)\n",
    "- Outer disk (0.15 M⊙yr−1)"
   ]
  },
  {
   "cell_type": "markdown",
   "metadata": {},
   "source": [
    "## TODO"
   ]
  },
  {
   "cell_type": "markdown",
   "metadata": {},
   "source": [
    "- Right now, some of the flux errors are bigger than the fluxes\n",
    "- Need to do error propagation all the way through\n",
    "- Improve the parameters so that we get closer to the literature value"
   ]
  },
  {
   "cell_type": "code",
   "execution_count": null,
   "metadata": {},
   "outputs": [],
   "source": []
  },
  {
   "cell_type": "code",
   "execution_count": 29,
   "metadata": {},
   "outputs": [],
   "source": [
    "#fR = None\n",
    "#fRerr = None\n",
    "#fHa = None\n",
    "#fHaerr = None\n",
    "#DW = None\n",
    "#\n",
    "#EHaf = fHa - (fR / DW)\n",
    "#EHaf_err = np.sqrt((fRerr ** 2) + (fHaerr ** 2) + ?????????)"
   ]
  },
  {
   "cell_type": "code",
   "execution_count": 30,
   "metadata": {},
   "outputs": [],
   "source": [
    "#d = None\n",
    "#derr = None\n",
    "#f = None\n",
    "#ferr = None\n",
    "#\n",
    "#L = 4 * np.pi * (d ** 2) * f\n",
    "#Lerr = 4 * np.pi * (ferr * (d ** 2) + derr * 2 * d * f)"
   ]
  }
 ],
 "metadata": {
  "kernelspec": {
   "display_name": "phys100py3",
   "language": "python",
   "name": "phys100py3"
  },
  "language_info": {
   "codemirror_mode": {
    "name": "ipython",
    "version": 3
   },
   "file_extension": ".py",
   "mimetype": "text/x-python",
   "name": "python",
   "nbconvert_exporter": "python",
   "pygments_lexer": "ipython3",
   "version": "3.6.15"
  }
 },
 "nbformat": 4,
 "nbformat_minor": 5
}
