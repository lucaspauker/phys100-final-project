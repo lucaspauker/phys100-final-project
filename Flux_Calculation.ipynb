{
 "cells": [
  {
   "cell_type": "code",
   "execution_count": 23,
   "id": "faabb73b",
   "metadata": {},
   "outputs": [],
   "source": [
    "# General (scientific) computing\n",
    "import os\n",
    "import time\n",
    "import glob\n",
    "import numpy as np\n",
    "import matplotlib.pylab as plt\n",
    "%matplotlib inline\n",
    "import matplotlib as mpl\n",
    "from matplotlib.patches import Ellipse\n",
    "mpl.rcParams['image.origin'] = 'lower'\n",
    "mpl.rcParams['image.interpolation'] = 'nearest'\n",
    "mpl.rcParams['image.cmap'] = 'Greys_r'\n",
    "\n",
    "# Astronomical computing\n",
    "import fitsio\n",
    "from astropy.visualization import simple_norm, AsinhStretch\n",
    "#import astroalign as aa\n",
    "import sep\n",
    "import scipy\n",
    "import astropy.io.fits as fits\n",
    "from astropy.wcs import WCS\n",
    "from astropy.io import ascii\n",
    "from astropy.coordinates import SkyCoord\n",
    "from astropy import units as u\n",
    "\n",
    "# Your Image Calibration and Photometry Code\n",
    "from complete_process import average_bias, average_dark, average_flat, science_exposure\n",
    "# Note that you do not need to have magnitude errors implemented. That is for lab 1.5! Returning 0 for all\n",
    "# magnitude errors is fine for now.\n",
    "from photometry import create_phot_cat, aper_flux, multi_ellipse_aper_flux, aper_mag"
   ]
  },
  {
   "cell_type": "code",
   "execution_count": 91,
   "id": "cc536050",
   "metadata": {},
   "outputs": [
    {
     "data": {
      "text/plain": [
       "54.47493333333333"
      ]
     },
     "execution_count": 91,
     "metadata": {},
     "output_type": "execute_result"
    }
   ],
   "source": [
    "408562 / 7500"
   ]
  },
  {
   "cell_type": "markdown",
   "id": "2c15a0fb",
   "metadata": {},
   "source": [
    "## Fluxes"
   ]
  },
  {
   "cell_type": "code",
   "execution_count": 88,
   "id": "0c865964",
   "metadata": {},
   "outputs": [
    {
     "name": "stdout",
     "output_type": "stream",
     "text": [
      "110.23941326141357\n",
      "Flux: 8920.47874583479\n",
      "Flux err: 16.932896309417714\n"
     ]
    },
    {
     "data": {
      "image/png": "[encoded data removed]",
      "text/plain": [
       "<Figure size 432x288 with 1 Axes>"
      ]
     },
     "metadata": {
      "needs_background": "light"
     },
     "output_type": "display_data"
    }
   ],
   "source": [
    "# M94 R Flux\n",
    "im, header = fitsio.read('./data/Coadded_Data/coadded_R.fit', header=True)\n",
    "print(np.median(im))\n",
    "#print(3*60 + 6 * 15)# + 4 * 15)\n",
    "\n",
    "rfl, rerrl, risl, rib = multi_ellipse_aper_flux(im, n_ellipses=1, a_list=[150], b_list=[150], \n",
    "                                        h_list=[1055], k_list=[460],\n",
    "                                        bgx=1055, bgy=460, background_width=400, angles=[0], gain=1,\n",
    "                                        nimages1=9, nimages2=4, errFlag=True, \n",
    "                                        read_noise1=3.4934947763773803, read_noise2=3.1409296805752427, \n",
    "                                        avg_dark_current1=0.07143249638710437, \n",
    "                                        avg_dark_current2=0.07738150368580866,exptime1=270, exptime2=60)\n",
    "r_mag, r_magerr = aper_mag(rfl[0], rerrl[0])\n",
    "plt.imshow(im * (risl[0]))\n",
    "print(\"Flux:\", rfl[0])\n",
    "print(\"Flux err:\", rerrl[0])"
   ]
  },
  {
   "cell_type": "code",
   "execution_count": 89,
   "id": "b05e74fd",
   "metadata": {},
   "outputs": [
    {
     "name": "stdout",
     "output_type": "stream",
     "text": [
      "330.0\n",
      "Flux: 147.62703704235582\n",
      "Flux err: 2.212948111545144\n"
     ]
    },
    {
     "data": {
      "image/png": "[encoded data removed]",
      "text/plain": [
       "<Figure size 432x288 with 1 Axes>"
      ]
     },
     "metadata": {
      "needs_background": "light"
     },
     "output_type": "display_data"
    }
   ],
   "source": [
    "# BD+42 R Flux\n",
    "im, header = fitsio.read('./data/Coadded_Data/coadded_R.fit', header=True)\n",
    "print(header['EXPTIME'])\n",
    "#print(3*60 + 6 * 15)# + 4 * 15)\n",
    "\n",
    "rfl, rerrl, risl, rib = multi_ellipse_aper_flux(im, n_ellipses=1, a_list=[20], b_list=[20], \n",
    "                                        h_list=[1021], k_list=[877],\n",
    "                                        bgx=1021, bgy=877, background_width=90, angles=[0], gain=1,\n",
    "                                        nimages1=9, nimages2=4, errFlag=True, \n",
    "                                        read_noise1=3.4934947763773803, read_noise2=3.1409296805752427, \n",
    "                                        avg_dark_current1=0.07143249638710437, \n",
    "                                        avg_dark_current2=0.07738150368580866,exptime1=270, exptime2=60)\n",
    "ref_r_mag, ref_r_magerr = aper_mag(rfl[0], rerrl[0])\n",
    "plt.imshow(im * (risl[0]))\n",
    "print(\"Flux:\", rfl[0])\n",
    "print(\"Flux err:\", rerrl[0])"
   ]
  },
  {
   "cell_type": "code",
   "execution_count": 90,
   "id": "74eca7b7",
   "metadata": {},
   "outputs": [
    {
     "name": "stdout",
     "output_type": "stream",
     "text": [
      "7500.0\n",
      "Flux: 6559.495198439171\n",
      "Flux err: 2.3175952542282743\n"
     ]
    },
    {
     "data": {
      "image/png": "[encoded data removed]",
      "text/plain": [
       "<Figure size 432x288 with 1 Axes>"
      ]
     },
     "metadata": {
      "needs_background": "light"
     },
     "output_type": "display_data"
    }
   ],
   "source": [
    "# M94 Ha Flux\n",
    "im, header = fitsio.read('./data/Coadded_Data/coadded_Ha.fit', header=True)\n",
    "print(header['EXPTIME'])\n",
    "\n",
    "hafl, haerrl, haisl, haib = multi_ellipse_aper_flux(im, n_ellipses=1, a_list=[150], b_list=[150], \n",
    "                                        h_list=[740], k_list=[561],\n",
    "                                        bgx=740, bgy=561, background_width=400, angles=[0], gain=1,\n",
    "                                        nimages1=85, nimages2=35, errFlag=True, \n",
    "                                        read_noise1=3.4934947763773803, read_noise2=3.1409296805752427, \n",
    "                                        avg_dark_current1=0.07143249638710437, \n",
    "                                        avg_dark_current2=0.07738150368580866,exptime1=85*60, exptime2=35*60)\n",
    "ha_mag, ha_magerr = aper_mag(hafl[0], haerrl[0])\n",
    "plt.imshow(im * (haisl[0]))\n",
    "print(\"Flux:\", hafl[0])\n",
    "print(\"Flux err:\", haerrl[0])"
   ]
  },
  {
   "cell_type": "code",
   "execution_count": 75,
   "id": "0391b80d",
   "metadata": {},
   "outputs": [
    {
     "name": "stdout",
     "output_type": "stream",
     "text": [
      "7500.0\n",
      "Flux: 61.1202406443974\n",
      "Flux err: 0.29794433217031685\n"
     ]
    },
    {
     "data": {
      "image/png": "[encoded data removed]",
      "text/plain": [
       "<Figure size 432x288 with 1 Axes>"
      ]
     },
     "metadata": {
      "needs_background": "light"
     },
     "output_type": "display_data"
    }
   ],
   "source": [
    "# BD+42 Ha Flux\n",
    "im, header = fitsio.read('./data/Coadded_Data/coadded_Ha.fit', header=True)\n",
    "print(header['EXPTIME'])\n",
    "\n",
    "hafl, haerrl, haisl, haib = multi_ellipse_aper_flux(im, n_ellipses=1, a_list=[20], b_list=[20], \n",
    "                                        h_list=[706], k_list=[973],\n",
    "                                        bgx=706, bgy=973, background_width=90, angles=[0], gain=1,\n",
    "                                        nimages1=85, nimages2=35, errFlag=True, \n",
    "                                        read_noise1=3.4934947763773803, read_noise2=3.1409296805752427, \n",
    "                                        avg_dark_current1=0.07143249638710437, \n",
    "                                        avg_dark_current2=0.07738150368580866,exptime1=85*60, exptime2=35*60)\n",
    "ref_ha_mag, ref_ha_magerr = aper_mag(hafl[0], haerrl[0])\n",
    "plt.imshow(im * (haisl[0]))\n",
    "print(\"Flux:\", hafl[0])\n",
    "print(\"Flux err:\", haerrl[0])"
   ]
  },
  {
   "cell_type": "markdown",
   "id": "dd00d81b",
   "metadata": {},
   "source": [
    "## Differential Photometry"
   ]
  },
  {
   "cell_type": "code",
   "execution_count": 76,
   "id": "4e71a3a3",
   "metadata": {},
   "outputs": [],
   "source": [
    "ref_true_mag = 9.50"
   ]
  },
  {
   "cell_type": "code",
   "execution_count": 92,
   "id": "156ed2b7",
   "metadata": {},
   "outputs": [
    {
     "data": {
      "text/plain": [
       "(0.01700925777840593,\n",
       " 0.00016711306083976466,\n",
       " 4.423286592478789,\n",
       " 0.005306548668167491)"
      ]
     },
     "execution_count": 92,
     "metadata": {},
     "output_type": "execute_result"
    }
   ],
   "source": [
    "# We have to do error propogation here\n",
    "corrected_mag_Ha = ref_true_mag - ref_ha_mag + ha_mag\n",
    "corrected_mag_Haerr = np.sqrt(ref_ha_magerr ** 2 + ha_magerr ** 2)\n",
    "fluxHa = 10 ** (-corrected_mag_Ha/2.5)\n",
    "fluxHa_err = (corrected_mag_Haerr ** 2) * (5.756 * np.exp(5.756 * corrected_mag_Haerr))\n",
    "fluxHa, fluxHa_err, corrected_mag_Ha, corrected_mag_Haerr"
   ]
  },
  {
   "cell_type": "code",
   "execution_count": 93,
   "id": "b21932d0",
   "metadata": {
    "scrolled": true
   },
   "outputs": [
    {
     "data": {
      "text/plain": [
       "(0.00957684061200201,\n",
       " 0.001702545754303739,\n",
       " 5.046944351279807,\n",
       " 0.01640529459460682)"
      ]
     },
     "execution_count": 93,
     "metadata": {},
     "output_type": "execute_result"
    }
   ],
   "source": [
    "# We have to do error propogation here\n",
    "corrected_mag_R = ref_true_mag - ref_r_mag + r_mag\n",
    "corrected_mag_Rerr = np.sqrt(ref_r_magerr ** 2 + r_magerr ** 2)\n",
    "fluxR = 10 ** (-corrected_mag_R/2.5)\n",
    "fluxR_err = (corrected_mag_Rerr ** 2) * (5.756 * np.exp(5.756 * corrected_mag_Rerr))\n",
    "fluxR, fluxR_err, corrected_mag_R, corrected_mag_Rerr"
   ]
  },
  {
   "cell_type": "markdown",
   "id": "0ed2ff8d",
   "metadata": {},
   "source": [
    "## Flux Subtraction"
   ]
  },
  {
   "cell_type": "code",
   "execution_count": 94,
   "id": "d92bd6d5",
   "metadata": {},
   "outputs": [
    {
     "data": {
      "text/plain": [
       "43.88622656886716"
      ]
     },
     "execution_count": 94,
     "metadata": {},
     "output_type": "execute_result"
    }
   ],
   "source": [
    "DW = 13462.1 / 306.75\n",
    "DW"
   ]
  },
  {
   "cell_type": "code",
   "execution_count": 95,
   "id": "6f7fd4af",
   "metadata": {},
   "outputs": [
    {
     "name": "stdout",
     "output_type": "stream",
     "text": [
      "Flux difference is 19931633791.504013\n",
      "Flux difference error is 0.10845312118047376\n"
     ]
    }
   ],
   "source": [
    "# Now we will calculate the difference in Flux\n",
    "# We have to do error propogation here\n",
    "dF = 10 ** (2.5 * corrected_mag_Ha) - (10 ** (2.5 * corrected_mag_R) / DW)\n",
    "dFerr = np.sqrt((corrected_mag_Haerr ** 2) * (5.756 * np.exp(5.756 * corrected_mag_Haerr)) ** 2 + (corrected_mag_Rerr ** 2) * (5.756 * np.exp(5.756 * corrected_mag_Rerr)) ** 2)\n",
    "print(\"Flux difference is\", dF)\n",
    "print(\"Flux difference error is\", dFerr)  # This might be fixed if the error in the photometry aper_flux\n",
    "                                          # is fixed"
   ]
  },
  {
   "cell_type": "markdown",
   "id": "daf896bb",
   "metadata": {},
   "source": [
    "## Luminosity"
   ]
  },
  {
   "cell_type": "code",
   "execution_count": 96,
   "id": "8a0a24ba",
   "metadata": {},
   "outputs": [],
   "source": [
    "h = scipy.constants.h\n",
    "c = scipy.constants.c"
   ]
  },
  {
   "cell_type": "code",
   "execution_count": null,
   "id": "8b3270d7",
   "metadata": {},
   "outputs": [],
   "source": []
  },
  {
   "cell_type": "code",
   "execution_count": 97,
   "id": "488005d6",
   "metadata": {},
   "outputs": [
    {
     "name": "stdout",
     "output_type": "stream",
     "text": [
      "3.0189146765181287e-19 3.0267345073120964e-19 0.9974164133738601\n"
     ]
    }
   ],
   "source": [
    "# Don't worry about this error propagation\n",
    "R_avg_lambda = 658\n",
    "R_photon_energy = h * c * 10**9 / R_avg_lambda\n",
    "Ha_avg_lambda = 656.3\n",
    "Ha_photon_energy = h * c * 10**9 / Ha_avg_lambda\n",
    "print(R_photon_energy, Ha_photon_energy, R_photon_energy / Ha_photon_energy)"
   ]
  },
  {
   "cell_type": "code",
   "execution_count": 98,
   "id": "a6489105",
   "metadata": {},
   "outputs": [
    {
     "name": "stdout",
     "output_type": "stream",
     "text": [
      "6.62607015e-34\n",
      "0.37161215999999997 m mirror\n",
      "100 photons per second are detected by CCD\n",
      "658 nm avg wavelength of light let in by filter\n",
      "(8.123831783432838e-17, 9.013230155406462e-09) W/m^2\n"
     ]
    }
   ],
   "source": [
    "h = scipy.constants.Planck\n",
    "print(h)\n",
    "c = scipy.constants.c\n",
    "def turn_into_wattsm2(rate, rate_err, area, lam):\n",
    "    \"\"\"Turn\n",
    "        - rate, which is in photons / second,\n",
    "        - area, which is area of the primary mirror in m^2,\n",
    "        - lam, which is in nm\n",
    "    into Watts / m^2\n",
    "    \"\"\"\n",
    "    energy = h * c * 10**9 / lam\n",
    "    return energy * rate / area, np.sqrt((rate_err ** 2) * energy / area)\n",
    "    \n",
    "# These lines are a test\n",
    "rate = 100\n",
    "rate_err = 10\n",
    "r = 24 * 2.54 # cm\n",
    "area = (r ** 2) / 10000  # m^2\n",
    "lam = 658\n",
    "print(area, \"m mirror\")\n",
    "print(rate, \"photons per second are detected by CCD\")\n",
    "print(lam, \"nm avg wavelength of light let in by filter\")\n",
    "print(turn_into_wattsm2(rate, rate_err, area, lam), \"W/m^2\")"
   ]
  },
  {
   "cell_type": "code",
   "execution_count": 99,
   "id": "5a0ef8ec",
   "metadata": {},
   "outputs": [
    {
     "name": "stdout",
     "output_type": "stream",
     "text": [
      "1.7413523555731217e-20\n",
      "1.7469357031382544e-13\n"
     ]
    }
   ],
   "source": [
    "r = 12 * 2.54 * 0.01 # m\n",
    "area = np.pi * (r ** 2) # m^2\n",
    "wattsR, wattsR_err = turn_into_wattsm2(fluxR, fluxR_err, area, R_avg_lambda)\n",
    "wattsHa, wattsHa_err = turn_into_wattsm2(fluxHa, fluxHa_err, area, Ha_avg_lambda)\n",
    "difference = wattsHa - wattsR / DW\n",
    "cov = 0\n",
    "dif_err = np.sqrt((wattsHa_err ** 2) + ((wattsR_err ** 2) / (DW ** 2)) - (2 * cov / DW))\n",
    "print(difference)\n",
    "print(dif_err)"
   ]
  },
  {
   "cell_type": "code",
   "execution_count": 100,
   "id": "daf15b4b",
   "metadata": {},
   "outputs": [
    {
     "data": {
      "text/plain": [
       "2.6797532831114042e-12"
      ]
     },
     "execution_count": 100,
     "metadata": {},
     "output_type": "execute_result"
    }
   ],
   "source": [
    "dv = (c * (10 ** 9)/370) - (c * (10 ** 9)/410)\n",
    "dv * 3.39 * (10**-26)"
   ]
  },
  {
   "cell_type": "code",
   "execution_count": 101,
   "id": "97454859",
   "metadata": {},
   "outputs": [
    {
     "name": "stdout",
     "output_type": "stream",
     "text": [
      "1.763924096625866e-20 9.905885418945337e-21\n"
     ]
    }
   ],
   "source": [
    "print(wattsHa, wattsR)  # This seems wrong"
   ]
  },
  {
   "cell_type": "code",
   "execution_count": 102,
   "id": "9065d4f3",
   "metadata": {},
   "outputs": [
    {
     "name": "stdout",
     "output_type": "stream",
     "text": [
      "Luminosity is 5.003576282697162e+27 watts.\n",
      "Luminosity is 5.0035762826971615e+34 ergs.\n",
      "SFR = 3.952825263330757e-06 solar masses a year\n",
      "39.6549931935324\n"
     ]
    }
   ],
   "source": [
    "d = 4.9 * 3.086e22  # m, error is +- 0.4 \n",
    "derr = 0.4 * 3.086e22\n",
    "L = 4 * np.pi * (d ** 2) * difference\n",
    "Lerr = np.sqrt((((4 * np.pi * d ** 2) ** 2) * (dif_err ** 2)) + ((8 * np.pi * d * difference) ** 2 * (derr ** 2)))\n",
    "print(\"Luminosity is\", L, \"watts.\")\n",
    "Lergs = L * 10000000  # ergs/s\n",
    "Lergs_err = Lerr * 10000000\n",
    "print(\"Luminosity is\", Lergs, \"ergs.\")\n",
    "SFR = Lergs * 7.9 * 10e-42\n",
    "SFR_err = Lergs_err * 7.9 * 10e-42\n",
    "print(\"SFR =\", SFR, \"solar masses a year\")\n",
    "print(SFR_err)"
   ]
  },
  {
   "cell_type": "markdown",
   "id": "5255ec81",
   "metadata": {},
   "source": [
    "## Compare to literature"
   ]
  },
  {
   "cell_type": "markdown",
   "id": "e2e41f2c",
   "metadata": {},
   "source": [
    "https://www.cosmotography.com/images/m94_0907.4884v1.pdf\n",
    "\n",
    "From this paper, \"We find that the total SFR for M94 is 1.04 M⊙yr−1\"\n",
    "\n",
    "It is distributed as follows:\n",
    "- Bulge (0.75 M⊙yr−1)\n",
    "- Inner disk (0.14 M⊙yr−1)\n",
    "- Outer disk (0.15 M⊙yr−1)"
   ]
  },
  {
   "cell_type": "markdown",
   "id": "fb930e6e",
   "metadata": {},
   "source": [
    "## TODO"
   ]
  },
  {
   "cell_type": "markdown",
   "id": "73552919",
   "metadata": {},
   "source": [
    "- Right now, some of the flux errors are bigger than the fluxes\n",
    "- Need to do error propagation all the way through\n",
    "- Improve the parameters so that we get closer to the literature value"
   ]
  },
  {
   "cell_type": "code",
   "execution_count": null,
   "id": "1b294274",
   "metadata": {},
   "outputs": [],
   "source": []
  },
  {
   "cell_type": "code",
   "execution_count": 17,
   "id": "f250d4c7",
   "metadata": {},
   "outputs": [],
   "source": [
    "#fR = None\n",
    "#fRerr = None\n",
    "#fHa = None\n",
    "#fHaerr = None\n",
    "#DW = None\n",
    "#\n",
    "#EHaf = fHa - (fR / DW)\n",
    "#EHaf_err = np.sqrt((fRerr ** 2) + (fHaerr ** 2) + ?????????)"
   ]
  },
  {
   "cell_type": "code",
   "execution_count": 18,
   "id": "4ccef313",
   "metadata": {},
   "outputs": [],
   "source": [
    "#d = None\n",
    "#derr = None\n",
    "#f = None\n",
    "#ferr = None\n",
    "#\n",
    "#L = 4 * np.pi * (d ** 2) * f\n",
    "#Lerr = 4 * np.pi * (ferr * (d ** 2) + derr * 2 * d * f)"
   ]
  }
 ],
 "metadata": {
  "kernelspec": {
   "display_name": "Python 3 (ipykernel)",
   "language": "python",
   "name": "python3"
  },
  "language_info": {
   "codemirror_mode": {
    "name": "ipython",
    "version": 3
   },
   "file_extension": ".py",
   "mimetype": "text/x-python",
   "name": "python",
   "nbconvert_exporter": "python",
   "pygments_lexer": "ipython3",
   "version": "3.9.7"
  }
 },
 "nbformat": 4,
 "nbformat_minor": 5
}
